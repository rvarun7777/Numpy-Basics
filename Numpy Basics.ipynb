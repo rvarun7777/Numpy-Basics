{
 "cells": [
  {
   "cell_type": "code",
   "execution_count": 1,
   "metadata": {
    "collapsed": true
   },
   "outputs": [],
   "source": [
    "import numpy as np"
   ]
  },
  {
   "cell_type": "code",
   "execution_count": 2,
   "metadata": {},
   "outputs": [
    {
     "data": {
      "text/plain": [
       "array([0, 1, 2, 3, 4, 5, 6, 7, 8, 9])"
      ]
     },
     "execution_count": 2,
     "metadata": {},
     "output_type": "execute_result"
    }
   ],
   "source": [
    "np.arange(10)"
   ]
  },
  {
   "cell_type": "code",
   "execution_count": 4,
   "metadata": {},
   "outputs": [],
   "source": [
    "np.arange(1,10)"
   ]
  },
  {
   "cell_type": "code",
   "execution_count": 5,
   "metadata": {},
   "outputs": [],
   "source": [
    "np.arange(1,10,2)"
   ]
  },
  {
   "cell_type": "code",
   "execution_count": 13,
   "metadata": {},
   "outputs": [
    {
     "data": {
      "text/plain": [
       "array([ 1. ,  1.5,  2. ,  2.5,  3. ,  3.5,  4. ,  4.5,  5. ,  5.5,  6. ,\n        6.5,  7. ,  7.5,  8. ,  8.5,  9. ,  9.5])"
      ]
     },
     "execution_count": 13,
     "metadata": {},
     "output_type": "execute_result"
    }
   ],
   "source": [
    "np.arange(1,10,0.5,dtype=np.float64)"
   ]
  },
  {
   "cell_type": "code",
   "execution_count": 14,
   "metadata": {},
   "outputs": [
    {
     "data": {
      "text/plain": [
       "1"
      ]
     },
     "execution_count": 14,
     "metadata": {},
     "output_type": "execute_result"
    }
   ],
   "source": [
    "ds=np.arange(1,10,2)\n",
    "ds.ndim"
   ]
  },
  {
   "cell_type": "code",
   "execution_count": 16,
   "metadata": {},
   "outputs": [
    {
     "data": {
      "text/plain": [
       "(5,)"
      ]
     },
     "execution_count": 16,
     "metadata": {},
     "output_type": "execute_result"
    }
   ],
   "source": [
    "ds.shape"
   ]
  },
  {
   "cell_type": "code",
   "execution_count": 19,
   "metadata": {},
   "outputs": [
    {
     "data": {
      "text/plain": [
       "dtype('int32')"
      ]
     },
     "execution_count": 19,
     "metadata": {},
     "output_type": "execute_result"
    }
   ],
   "source": [
    "ds.dtype"
   ]
  },
  {
   "cell_type": "code",
   "execution_count": 20,
   "metadata": {},
   "outputs": [
    {
     "data": {
      "text/plain": [
       "4"
      ]
     },
     "execution_count": 20,
     "metadata": {},
     "output_type": "execute_result"
    }
   ],
   "source": [
    "ds.itemsize"
   ]
  },
  {
   "cell_type": "code",
   "execution_count": 23,
   "metadata": {},
   "outputs": [],
   "source": [
    "%%capture timeit_results\n",
    "%timeit python_list_1 = range(1,1000)\n",
    "%timeit python_list_1 = np.arange(1,1000)"
   ]
  },
  {
   "cell_type": "code",
   "execution_count": 24,
   "metadata": {},
   "outputs": [
    {
     "name": "stdout",
     "output_type": "stream",
     "text": [
      "The slowest run took 9.14 times longer than the fastest. This could mean that an intermediate result is being cached.\n1000000 loops, best of 3: 562 ns per loop\nThe slowest run took 8.88 times longer than the fastest. This could mean that an intermediate result is being cached.\n100000 loops, best of 3: 2.79 us per loop\n\n"
     ]
    }
   ],
   "source": [
    "print (timeit_results)"
   ]
  },
  {
   "cell_type": "code",
   "execution_count": 25,
   "metadata": {},
   "outputs": [
    {
     "data": {
      "text/plain": [
       "array([1, 2, 3, 4, 5])"
      ]
     },
     "execution_count": 25,
     "metadata": {},
     "output_type": "execute_result"
    }
   ],
   "source": [
    "np.array([1,2,3,4,5])"
   ]
  },
  {
   "cell_type": "code",
   "execution_count": 27,
   "metadata": {},
   "outputs": [
    {
     "data": {
      "text/plain": [
       "array([[1, 2],\n       [2, 3],\n       [4, 5]])"
      ]
     },
     "execution_count": 27,
     "metadata": {},
     "output_type": "execute_result"
    }
   ],
   "source": [
    "np.array([[1,2],[2,3],[4,5]])"
   ]
  },
  {
   "cell_type": "code",
   "execution_count": 37,
   "metadata": {},
   "outputs": [
    {
     "data": {
      "text/plain": [
       "array([[[0, 0],\n        [0, 0],\n        [0, 0],\n        [0, 0]],\n\n       [[0, 0],\n        [0, 0],\n        [0, 0],\n        [0, 0]],\n\n       [[0, 0],\n        [0, 0],\n        [0, 0],\n        [0, 0]]], dtype=int64)"
      ]
     },
     "execution_count": 37,
     "metadata": {},
     "output_type": "execute_result"
    }
   ],
   "source": [
    "np.zeros([3,4,2],dtype=np.int64)"
   ]
  },
  {
   "cell_type": "code",
   "execution_count": 39,
   "metadata": {},
   "outputs": [
    {
     "data": {
      "text/plain": [
       "array([ 1.        ,  1.02040816,  1.04081633,  1.06122449,  1.08163265,\n        1.10204082,  1.12244898,  1.14285714,  1.16326531,  1.18367347,\n        1.20408163,  1.2244898 ,  1.24489796,  1.26530612,  1.28571429,\n        1.30612245,  1.32653061,  1.34693878,  1.36734694,  1.3877551 ,\n        1.40816327,  1.42857143,  1.44897959,  1.46938776,  1.48979592,\n        1.51020408,  1.53061224,  1.55102041,  1.57142857,  1.59183673,\n        1.6122449 ,  1.63265306,  1.65306122,  1.67346939,  1.69387755,\n        1.71428571,  1.73469388,  1.75510204,  1.7755102 ,  1.79591837,\n        1.81632653,  1.83673469,  1.85714286,  1.87755102,  1.89795918,\n        1.91836735,  1.93877551,  1.95918367,  1.97959184,  2.        ])"
      ]
     },
     "execution_count": 39,
     "metadata": {},
     "output_type": "execute_result"
    }
   ],
   "source": [
    "np.linspace(1,2)"
   ]
  },
  {
   "cell_type": "code",
   "execution_count": 42,
   "metadata": {},
   "outputs": [
    {
     "data": {
      "text/plain": [
       "array([ 1. ,  2.5,  4. ])"
      ]
     },
     "execution_count": 42,
     "metadata": {},
     "output_type": "execute_result"
    }
   ],
   "source": [
    "np.linspace(1,4,num=3)"
   ]
  },
  {
   "cell_type": "heading",
   "metadata": {},
   "level": 1,
   "source": [
    "Statistical Analysis"
   ]
  },
  {
   "cell_type": "code",
   "execution_count": 46,
   "metadata": {},
   "outputs": [
    {
     "data": {
      "text/plain": [
       "array([[ 0.29268055,  0.13815002,  0.91969827],\n       [ 0.39999544,  0.00278687,  0.02829351]])"
      ]
     },
     "execution_count": 46,
     "metadata": {},
     "output_type": "execute_result"
    }
   ],
   "source": [
    "data_set=np.random.random((2,3))\n",
    "data_set"
   ]
  },
  {
   "cell_type": "code",
   "execution_count": 47,
   "metadata": {},
   "outputs": [
    {
     "data": {
      "text/plain": [
       "0.91969826546566436"
      ]
     },
     "execution_count": 47,
     "metadata": {},
     "output_type": "execute_result"
    }
   ],
   "source": [
    "np.max(data_set)"
   ]
  },
  {
   "cell_type": "code",
   "execution_count": 52,
   "metadata": {},
   "outputs": [
    {
     "data": {
      "text/plain": [
       "array([ 0.39999544,  0.13815002,  0.91969827])"
      ]
     },
     "execution_count": 52,
     "metadata": {},
     "output_type": "execute_result"
    }
   ],
   "source": [
    "np.max(data_set,axis=0)\n",
    "# axis=0 column wise,if 1 row wise"
   ]
  },
  {
   "cell_type": "code",
   "execution_count": 53,
   "metadata": {},
   "outputs": [
    {
     "data": {
      "text/plain": [
       "array([ 0.91969827,  0.39999544])"
      ]
     },
     "execution_count": 53,
     "metadata": {},
     "output_type": "execute_result"
    }
   ],
   "source": [
    "np.max(data_set,axis=1)"
   ]
  },
  {
   "cell_type": "code",
   "execution_count": 48,
   "metadata": {},
   "outputs": [
    {
     "data": {
      "text/plain": [
       "0.0027868665719287256"
      ]
     },
     "execution_count": 48,
     "metadata": {},
     "output_type": "execute_result"
    }
   ],
   "source": [
    "np.min(data_set)"
   ]
  },
  {
   "cell_type": "code",
   "execution_count": 54,
   "metadata": {},
   "outputs": [
    {
     "data": {
      "text/plain": [
       "0.29693410720303243"
      ]
     },
     "execution_count": 54,
     "metadata": {},
     "output_type": "execute_result"
    }
   ],
   "source": [
    "np.mean(data_set)"
   ]
  },
  {
   "cell_type": "code",
   "execution_count": 55,
   "metadata": {},
   "outputs": [
    {
     "data": {
      "text/plain": [
       "0.21541528433069324"
      ]
     },
     "execution_count": 55,
     "metadata": {},
     "output_type": "execute_result"
    }
   ],
   "source": [
    "np.median(data_set)"
   ]
  },
  {
   "cell_type": "code",
   "execution_count": 57,
   "metadata": {},
   "outputs": [
    {
     "data": {
      "text/plain": [
       "0.31154928"
      ]
     },
     "execution_count": 57,
     "metadata": {},
     "output_type": "execute_result"
    }
   ],
   "source": [
    "np.std(data_set,dtype=np.float32)"
   ]
  },
  {
   "cell_type": "code",
   "execution_count": 58,
   "metadata": {},
   "outputs": [
    {
     "data": {
      "text/plain": [
       "array([[ 0.29268055,  0.13815002],\n       [ 0.91969827,  0.39999544],\n       [ 0.00278687,  0.02829351]])"
      ]
     },
     "execution_count": 58,
     "metadata": {},
     "output_type": "execute_result"
    }
   ],
   "source": [
    "np.reshape(data_set,(3,2))"
   ]
  },
  {
   "cell_type": "code",
   "execution_count": 60,
   "metadata": {},
   "outputs": [
    {
     "data": {
      "text/plain": [
       "array([[ 0.29268055],\n       [ 0.13815002],\n       [ 0.91969827],\n       [ 0.39999544],\n       [ 0.00278687],\n       [ 0.02829351]])"
      ]
     },
     "execution_count": 60,
     "metadata": {},
     "output_type": "execute_result"
    }
   ],
   "source": [
    "np.reshape(data_set,(6,1))"
   ]
  },
  {
   "cell_type": "code",
   "execution_count": 61,
   "metadata": {},
   "outputs": [
    {
     "data": {
      "text/plain": [
       "array([ 0.29268055,  0.13815002,  0.91969827,  0.39999544,  0.00278687,\n        0.02829351])"
      ]
     },
     "execution_count": 61,
     "metadata": {},
     "output_type": "execute_result"
    }
   ],
   "source": [
    "np.reshape(data_set,(6))"
   ]
  },
  {
   "cell_type": "code",
   "execution_count": 62,
   "metadata": {},
   "outputs": [
    {
     "data": {
      "text/plain": [
       "array([ 0.29268055,  0.13815002,  0.91969827,  0.39999544,  0.00278687,\n        0.02829351])"
      ]
     },
     "execution_count": 62,
     "metadata": {},
     "output_type": "execute_result"
    }
   ],
   "source": [
    "#ravel also flatens the data set.Same as the above operation\n",
    "np.ravel(data_set)"
   ]
  },
  {
   "cell_type": "heading",
   "metadata": {},
   "level": 2,
   "source": [
    "Slicing"
   ]
  },
  {
   "cell_type": "code",
   "execution_count": 68,
   "metadata": {},
   "outputs": [
    {
     "data": {
      "text/plain": [
       "array([[ 0.18143145,  0.50107562,  0.13843291,  0.19711021,  0.61869979,\n         0.91311048,  0.80688947,  0.69573915,  0.26047528,  0.37303549],\n       [ 0.37740536,  0.70708848,  0.57690628,  0.80325707,  0.88400845,\n         0.28271378,  0.68928768,  0.74103528,  0.40887046,  0.32018447],\n       [ 0.73169129,  0.03248543,  0.67059703,  0.13476584,  0.11158901,\n         0.56207675,  0.36445826,  0.02644161,  0.39812685,  0.83083828],\n       [ 0.29748817,  0.72792128,  0.91164242,  0.87106165,  0.07300732,\n         0.56461775,  0.56280869,  0.75827446,  0.20286767,  0.17784122],\n       [ 0.04393692,  0.68107036,  0.97060041,  0.14448867,  0.6262384 ,\n         0.52651722,  0.21681024,  0.31165539,  0.11894888,  0.25603626]])"
      ]
     },
     "execution_count": 68,
     "metadata": {},
     "output_type": "execute_result"
    }
   ],
   "source": [
    "data_set=np.random.random((5,10))\n",
    "data_set"
   ]
  },
  {
   "cell_type": "code",
   "execution_count": 69,
   "metadata": {},
   "outputs": [
    {
     "data": {
      "text/plain": [
       "array([ 0.37740536,  0.70708848,  0.57690628,  0.80325707,  0.88400845,\n        0.28271378,  0.68928768,  0.74103528,  0.40887046,  0.32018447])"
      ]
     },
     "execution_count": 69,
     "metadata": {},
     "output_type": "execute_result"
    }
   ],
   "source": [
    "data_set[1]"
   ]
  },
  {
   "cell_type": "code",
   "execution_count": 70,
   "metadata": {},
   "outputs": [
    {
     "data": {
      "text/plain": [
       "0.37740535503949468"
      ]
     },
     "execution_count": 70,
     "metadata": {},
     "output_type": "execute_result"
    }
   ],
   "source": [
    "data_set[1,0]"
   ]
  },
  {
   "cell_type": "code",
   "execution_count": 71,
   "metadata": {},
   "outputs": [
    {
     "data": {
      "text/plain": [
       "array([[ 0.73169129,  0.03248543,  0.67059703,  0.13476584,  0.11158901,\n         0.56207675,  0.36445826,  0.02644161,  0.39812685,  0.83083828],\n       [ 0.29748817,  0.72792128,  0.91164242,  0.87106165,  0.07300732,\n         0.56461775,  0.56280869,  0.75827446,  0.20286767,  0.17784122]])"
      ]
     },
     "execution_count": 71,
     "metadata": {},
     "output_type": "execute_result"
    }
   ],
   "source": [
    "data_set[2:4]"
   ]
  },
  {
   "cell_type": "code",
   "execution_count": 72,
   "metadata": {},
   "outputs": [
    {
     "data": {
      "text/plain": [
       "array([ 0.73169129,  0.29748817])"
      ]
     },
     "execution_count": 72,
     "metadata": {},
     "output_type": "execute_result"
    }
   ],
   "source": [
    "data_set[2:4,0]"
   ]
  },
  {
   "cell_type": "code",
   "execution_count": 73,
   "metadata": {},
   "outputs": [
    {
     "data": {
      "text/plain": [
       "array([[ 0.73169129,  0.03248543],\n       [ 0.29748817,  0.72792128]])"
      ]
     },
     "execution_count": 73,
     "metadata": {},
     "output_type": "execute_result"
    }
   ],
   "source": [
    "data_set[2:4,0:2]"
   ]
  },
  {
   "cell_type": "code",
   "execution_count": 75,
   "metadata": {},
   "outputs": [
    {
     "data": {
      "text/plain": [
       "array([[ 0.18143145,  0.50107562,  0.13843291,  0.19711021,  0.61869979,\n         0.91311048,  0.80688947,  0.69573915,  0.26047528,  0.37303549],\n       [ 0.37740536,  0.70708848,  0.57690628,  0.80325707,  0.88400845,\n         0.28271378,  0.68928768,  0.74103528,  0.40887046,  0.32018447],\n       [ 0.73169129,  0.03248543,  0.67059703,  0.13476584,  0.11158901,\n         0.56207675,  0.36445826,  0.02644161,  0.39812685,  0.83083828],\n       [ 0.29748817,  0.72792128,  0.91164242,  0.87106165,  0.07300732,\n         0.56461775,  0.56280869,  0.75827446,  0.20286767,  0.17784122],\n       [ 0.04393692,  0.68107036,  0.97060041,  0.14448867,  0.6262384 ,\n         0.52651722,  0.21681024,  0.31165539,  0.11894888,  0.25603626]])"
      ]
     },
     "execution_count": 75,
     "metadata": {},
     "output_type": "execute_result"
    }
   ],
   "source": [
    "data_set[::]"
   ]
  },
  {
   "cell_type": "code",
   "execution_count": 76,
   "metadata": {},
   "outputs": [
    {
     "data": {
      "text/plain": [
       "array([[ 0.18143145,  0.50107562,  0.13843291,  0.19711021,  0.61869979,\n         0.91311048,  0.80688947,  0.69573915,  0.26047528,  0.37303549],\n       [ 0.73169129,  0.03248543,  0.67059703,  0.13476584,  0.11158901,\n         0.56207675,  0.36445826,  0.02644161,  0.39812685,  0.83083828],\n       [ 0.04393692,  0.68107036,  0.97060041,  0.14448867,  0.6262384 ,\n         0.52651722,  0.21681024,  0.31165539,  0.11894888,  0.25603626]])"
      ]
     },
     "execution_count": 76,
     "metadata": {},
     "output_type": "execute_result"
    }
   ],
   "source": [
    "data_set[::2]"
   ]
  },
  {
   "cell_type": "code",
   "execution_count": 79,
   "metadata": {},
   "outputs": [
    {
     "data": {
      "text/plain": [
       "array([[ 0.73169129,  0.03248543,  0.67059703,  0.13476584,  0.11158901,\n         0.56207675,  0.36445826,  0.02644161,  0.39812685,  0.83083828],\n       [ 0.29748817,  0.72792128,  0.91164242,  0.87106165,  0.07300732,\n         0.56461775,  0.56280869,  0.75827446,  0.20286767,  0.17784122]])"
      ]
     },
     "execution_count": 79,
     "metadata": {},
     "output_type": "execute_result"
    }
   ],
   "source": [
    "data_set[2:4]"
   ]
  },
  {
   "cell_type": "code",
   "execution_count": 80,
   "metadata": {},
   "outputs": [
    {
     "data": {
      "text/plain": [
       "array([[ 0.73169129,  0.67059703,  0.11158901,  0.36445826,  0.39812685],\n       [ 0.29748817,  0.91164242,  0.07300732,  0.56280869,  0.20286767]])"
      ]
     },
     "execution_count": 80,
     "metadata": {},
     "output_type": "execute_result"
    }
   ],
   "source": [
    "data_set[2:4,::2]"
   ]
  }
 ],
 "metadata": {
  "kernelspec": {
   "display_name": "Python 2",
   "language": "python",
   "name": "python2"
  },
  "language_info": {
   "codemirror_mode": {
    "name": "ipython",
    "version": 2.0
   },
   "file_extension": ".py",
   "mimetype": "text/x-python",
   "name": "python",
   "nbconvert_exporter": "python",
   "pygments_lexer": "ipython2",
   "version": "2.7.6"
  }
 },
 "nbformat": 4,
 "nbformat_minor": 0
}